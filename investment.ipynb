{
 "cells": [
  {
   "cell_type": "code",
   "execution_count": null,
   "metadata": {},
   "outputs": [],
   "source": [
    "#Suppress display of warnings\n",
    "import warnings\n",
    "warnings.filterwarnings(\"ignore\")\n",
    "#Pandas is used for data manipulation and analysis.\n",
    "import pandas as pd\n",
    "#Numpy is used for mathematical operation and large, multi-dimensional arrays and matrices.\n",
    "import numpy as np\n",
    "#Matplotlib is used to visualize data and make 2D and 3D plots and its built in numpy.\n",
    "import matplotlib.pyplot as plt\n",
    "import seaborn as sns\n",
    "#Import various functions to perform calculations.\n",
    "from sklearn.model_selection import train_test_split\n",
    "#Classification Models\n",
    "from sklearn.linear_model import LogisticRegression\n",
    "from sklearn.ensemble import RandomForestClassifier\n",
    "from sklearn.naive_bayes import GaussianNB\n",
    "from sklearn.neighbors import KNeighborsClassifier\n",
    "from sklearn.svm import SVC\n",
    "from sklearn.metrics import classification_report\n",
    "from sklearn.metrics import confusion_matrix\n",
    "from sklearn import metrics"
   ]
  },
  {
   "cell_type": "code",
   "execution_count": null,
   "metadata": {},
   "outputs": [],
   "source": [
    "train = pd.read_csv(\"train_data.csv\")\n",
    "train"
   ]
  },
  {
   "cell_type": "code",
   "execution_count": null,
   "metadata": {},
   "outputs": [],
   "source": [
    "train.isnull().sum()"
   ]
  },
  {
   "cell_type": "code",
   "execution_count": null,
   "metadata": {},
   "outputs": [],
   "source": [
    "train.isna().sum()"
   ]
  },
  {
   "cell_type": "code",
   "execution_count": null,
   "metadata": {},
   "outputs": [],
   "source": [
    "train.duplicated().sum()"
   ]
  },
  {
   "cell_type": "code",
   "execution_count": null,
   "metadata": {},
   "outputs": [],
   "source": [
    "train.info()"
   ]
  },
  {
   "cell_type": "code",
   "execution_count": null,
   "metadata": {},
   "outputs": [],
   "source": [
    "train = train.dropna() # Dropping null values"
   ]
  },
  {
   "cell_type": "code",
   "execution_count": null,
   "metadata": {},
   "outputs": [],
   "source": [
    "from sklearn.preprocessing import LabelEncoder\n",
    "le = LabelEncoder()"
   ]
  },
  {
   "cell_type": "code",
   "execution_count": null,
   "metadata": {},
   "outputs": [],
   "source": [
    "# Converting all categorical columns into numerical\n",
    "train['Investor_ID'] = le.fit_transform(train['Investor_ID'])\n",
    "train['Investor_ID']\n",
    "train['Age'] = le.fit_transform(train['Age'])\n",
    "train['Age']\n",
    "train['Annual_Income'] = le.fit_transform(train['Annual_Income'])\n",
    "train['Annual_Income']\n",
    "train['Investment_Amount'] = le.fit_transform(train['Investment_Amount'])\n",
    "train['Investment_Amount']\n",
    "train['Potential_Return_Rate'] = le.fit_transform(train['Potential_Return_Rate'])\n",
    "train['Potential_Return_Rate']\n",
    "train['Education'] = le.fit_transform(train['Education'])\n",
    "train['Education']\n",
    "train['Employment_Status'] = le.fit_transform(train['Employment_Status'])\n",
    "train['Employment_Status']\n",
    "train['Marital_Status'] = le.fit_transform(train['Marital_Status'])\n",
    "train['Marital_Status']\n",
    "train['Owns_Property'] = le.fit_transform(train['Owns_Property'])\n",
    "train['Owns_Property']\n",
    "train['Has_Dependents'] = le.fit_transform(train['Has_Dependents'])\n",
    "train['Has_Dependents']\n",
    "train['Investment_Sector'] = le.fit_transform(train['Investment_Sector'])\n",
    "train['Investment_Sector']\n",
    "train['Has_Investment_Advisor'] = le.fit_transform(train['Has_Investment_Advisor'])\n",
    "train['Has_Investment_Advisor']"
   ]
  },
  {
   "cell_type": "code",
   "execution_count": null,
   "metadata": {},
   "outputs": [],
   "source": [
    "X = train.drop('Investment_Failed', axis=1)\n",
    "y = train['Investment_Failed']\n",
    "X_train, X_test, y_train, y_test = train_test_split(X, y, test_size=0.25)\n",
    "X_test"
   ]
  },
  {
   "cell_type": "code",
   "execution_count": null,
   "metadata": {},
   "outputs": [],
   "source": [
    "models = {\n",
    "    \"lg\":LogisticRegression(),\n",
    "    \"gnb\":GaussianNB(),\n",
    "    \"k-nb\":KNeighborsClassifier(),\n",
    "    \"svm\":SVC(),\n",
    "    \"rf\":RandomForestClassifier()    \n",
    "}\n",
    "\n",
    "for name, model in models.items():\n",
    "    model.fit(X_train, y_train)\n",
    "    print(name +\" trained\")"
   ]
  },
  {
   "cell_type": "code",
   "execution_count": null,
   "metadata": {},
   "outputs": [],
   "source": [
    "for name, model in models.items():\n",
    "    print(name + \": {:.2f}%\".format(model.score(X_test, y_test)*100))"
   ]
  },
  {
   "cell_type": "code",
   "execution_count": null,
   "metadata": {},
   "outputs": [],
   "source": [
    "for name, model in models.items():\n",
    "    y_pred = model.predict(X_test)\n",
    "    #PRINTING CONFUSION MATRIX\n",
    "    print(\"Confusion Matrix\")\n",
    "    cm = confusion_matrix(y_test, y_pred)\n",
    "    print(cm)\n",
    "    \n",
    "    plt.figure(figsize=(6, 4))\n",
    "    sns.heatmap(cm, annot=True, fmt='d', cmap='cividis', cbar=False, annot_kws={'size' : 14})\n",
    "    plt.xlabel(\"Predicted Labels\", fontsize=14)\n",
    "    plt.ylabel(\"True Labels\", fontsize=14)\n",
    "    plt.title('Confusion Matrix', fontsize=16)\n",
    "    plt.show()"
   ]
  },
  {
   "cell_type": "code",
   "execution_count": null,
   "metadata": {},
   "outputs": [],
   "source": [
    "from sklearn.metrics import accuracy_score"
   ]
  },
  {
   "cell_type": "code",
   "execution_count": null,
   "metadata": {},
   "outputs": [],
   "source": [
    "# Accuracy of Classification models\n",
    "for name, model in models.items():\n",
    "    y_pred = model.predict(X_test)\n",
    "    score = accuracy_score(y_test, y_pred)\n",
    "    accuracy = score*100\n",
    "    print(accuracy)"
   ]
  }
 ],
 "metadata": {
  "kernelspec": {
   "display_name": "Python 3",
   "language": "python",
   "name": "python3"
  },
  "language_info": {
   "codemirror_mode": {
    "name": "ipython",
    "version": 3
   },
   "file_extension": ".py",
   "mimetype": "text/x-python",
   "name": "python",
   "nbconvert_exporter": "python",
   "pygments_lexer": "ipython3",
   "version": "3.11.4"
  }
 },
 "nbformat": 4,
 "nbformat_minor": 2
}
